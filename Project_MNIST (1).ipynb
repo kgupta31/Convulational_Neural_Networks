{
  "nbformat": 4,
  "nbformat_minor": 0,
  "metadata": {
    "kernelspec": {
      "display_name": "Python 3",
      "language": "python",
      "name": "python3"
    },
    "language_info": {
      "codemirror_mode": {
        "name": "ipython",
        "version": 3
      },
      "file_extension": ".py",
      "mimetype": "text/x-python",
      "name": "python",
      "nbconvert_exporter": "python",
      "pygments_lexer": "ipython3",
      "version": "3.7.6"
    },
    "colab": {
      "name": "Project_MNIST.ipynb",
      "provenance": [],
      "collapsed_sections": [
        "iTfJn6W6GaVo"
      ]
    }
  },
  "cells": [
    {
      "cell_type": "markdown",
      "metadata": {
        "id": "_ZCznEIGGaUz",
        "colab_type": "text"
      },
      "source": [
        "## Handwritten Image Detection with Keras using MNIST and Fashion MNIST data\n",
        "\n",
        "In this exercise we will work with image data: specifically the famous MNIST and Fashion MNIST data sets.  MNIST data set contains 70,000 images of handwritten digits in grayscale (0=black, 255 = white). Fashion MNIST data set contains 70,000 images of clothing in grayscale (0=black, 255 = white). All the images are 28 pixels by 28 pixels for a total of 784 pixels.  This is quite small by image standards.  Also, the images are well centered and isolated.  This makes this problem solvable with standard fully connected neural nets without too much pre-work. <br><br>\n",
        "We will use a Convolutional Neural Network and compare it with a linear neural network. "
      ]
    },
    {
      "cell_type": "markdown",
      "metadata": {
        "id": "osz5nLOUGaU0",
        "colab_type": "text"
      },
      "source": [
        "In the first part of this notebook, we will walk you through loading in the data, building a network, and training it.  Then it will be your turn to try different models."
      ]
    },
    {
      "cell_type": "code",
      "metadata": {
        "id": "H20AkabWGaU1",
        "colab_type": "code",
        "colab": {}
      },
      "source": [
        "# Preliminaries\n",
        "\n",
        "from __future__ import print_function\n",
        "\n",
        "import keras\n",
        "from keras.datasets import mnist\n",
        "from keras.models import Sequential\n",
        "from keras.layers import Dense, Dropout, Conv2D, MaxPooling2D, Flatten\n",
        "from keras.optimizers import RMSprop\n",
        "from keras.datasets import fashion_mnist\n",
        "\n",
        "import numpy as np\n",
        "import matplotlib.pyplot as plt\n",
        "%matplotlib inline"
      ],
      "execution_count": null,
      "outputs": []
    },
    {
      "cell_type": "markdown",
      "metadata": {
        "collapsed": true,
        "id": "mrEBMdCsGaU4",
        "colab_type": "text"
      },
      "source": [
        "Let's explore the dataset a little bit"
      ]
    },
    {
      "cell_type": "code",
      "metadata": {
        "id": "5kl00RTUGaU5",
        "colab_type": "code",
        "colab": {
          "base_uri": "https://localhost:8080/",
          "height": 51
        },
        "outputId": "0d1ae6b2-086b-4745-aca7-6d7da10f5d54"
      },
      "source": [
        "# Load the data, shuffled and split between train and test sets\n",
        "(x_train, y_train), (x_test, y_test) = mnist.load_data()"
      ],
      "execution_count": null,
      "outputs": [
        {
          "output_type": "stream",
          "text": [
            "Downloading data from https://s3.amazonaws.com/img-datasets/mnist.npz\n",
            "11493376/11490434 [==============================] - 1s 0us/step\n"
          ],
          "name": "stdout"
        }
      ]
    },
    {
      "cell_type": "code",
      "metadata": {
        "id": "1_NgRQCNGaU7",
        "colab_type": "code",
        "colab": {
          "base_uri": "https://localhost:8080/",
          "height": 34
        },
        "outputId": "e30e13e0-903f-4dfe-ee43-c7a1d9f754e4"
      },
      "source": [
        "x_train.shape"
      ],
      "execution_count": null,
      "outputs": [
        {
          "output_type": "execute_result",
          "data": {
            "text/plain": [
              "(60000, 28, 28)"
            ]
          },
          "metadata": {
            "tags": []
          },
          "execution_count": 25
        }
      ]
    },
    {
      "cell_type": "code",
      "metadata": {
        "id": "MMtO4EoCGaU9",
        "colab_type": "code",
        "colab": {
          "base_uri": "https://localhost:8080/",
          "height": 1000
        },
        "outputId": "ac7458d2-7773-455a-8871-58825db29321"
      },
      "source": [
        "#Let's just look at a particular example to see what is inside\n",
        "\n",
        "x_train[333]  ## Just a 28 x 28 numpy array of ints from 0 to 255"
      ],
      "execution_count": null,
      "outputs": [
        {
          "output_type": "execute_result",
          "data": {
            "text/plain": [
              "array([[  0,   0,   0,   0,   0,   0,   0,   0,   0,   0,   0,   0,   0,\n",
              "          0,   0,   0,   0,   0,   0,   0,   0,   0,   0,   0,   0,   0,\n",
              "          0,   0],\n",
              "       [  0,   0,   0,   0,   0,   0,   0,   0,   0,   0,   0,   0,   0,\n",
              "          0,   0,   0,   0,   0,   0,   0,   0,   0,   0,   0,   0,   0,\n",
              "          0,   0],\n",
              "       [  0,   0,   0,   0,   0,   0,   0,   0,   0,   0,   0,   0,   0,\n",
              "          0,   0,   0,   0,   0,   0,   0,   0,   0,   0,   0,   0,   0,\n",
              "          0,   0],\n",
              "       [  0,   0,   0,   0,   0,   0,   0,   0,   0,   0,   0,   0,   0,\n",
              "          0,   0,   0,   0,   0,   0,   0,   0,   0,   0,   0,   0,   0,\n",
              "          0,   0],\n",
              "       [  0,   0,   0,   0,   0,   0,   0,   0,   0,   0,   0,   0,   0,\n",
              "          0,   0,   0,   0,   0,   0,   0,   0,   0,   0,   0,   0,   0,\n",
              "          0,   0],\n",
              "       [  0,   0,   0,   0,   0,   0,   0,   0,   0,   0,   0,  87, 138,\n",
              "        170, 253, 201, 244, 212, 222, 138,  86,  22,   0,   0,   0,   0,\n",
              "          0,   0],\n",
              "       [  0,   0,   0,   0,   0,   0,   0,   0,   0,   0,  95, 253, 252,\n",
              "        252, 252, 252, 253, 252, 252, 252, 252, 245,  80,   0,   0,   0,\n",
              "          0,   0],\n",
              "       [  0,   0,   0,   0,   0,   0,   0,   0,   0,  68, 246, 205,  69,\n",
              "         69,  69,  69,  69,  69,  69,  69, 205, 253, 240,  50,   0,   0,\n",
              "          0,   0],\n",
              "       [  0,   0,   0,   0,   0,   0,   0,   0,   0, 187, 252, 218,  34,\n",
              "          0,   0,   0,   0,   0,   0,   0, 116, 253, 252,  69,   0,   0,\n",
              "          0,   0],\n",
              "       [  0,   0,   0,   0,   0,   0,   0,   0, 116, 248, 252, 253,  92,\n",
              "          0,   0,   0,   0,   0,   0,  95, 230, 253, 157,   6,   0,   0,\n",
              "          0,   0],\n",
              "       [  0,   0,   0,   0,   0,   0,   0,   0, 116, 249, 253, 189,  42,\n",
              "          0,   0,   0,   0,  36, 170, 253, 243, 158,   0,   0,   0,   0,\n",
              "          0,   0],\n",
              "       [  0,   0,   0,   0,   0,   0,   0,   0,   0, 133, 252, 245, 140,\n",
              "         34,   0,   0,  57, 219, 252, 235,  60,   0,   0,   0,   0,   0,\n",
              "          0,   0],\n",
              "       [  0,   0,   0,   0,   0,   0,   0,   0,   0,  25, 205, 253, 252,\n",
              "        234, 184, 184, 253, 240, 100,  44,   0,   0,   0,   0,   0,   0,\n",
              "          0,   0],\n",
              "       [  0,   0,   0,   0,   0,   0,   0,   0,   0,   0,  21, 161, 219,\n",
              "        252, 252, 252, 234,  37,   0,   0,   0,   0,   0,   0,   0,   0,\n",
              "          0,   0],\n",
              "       [  0,   0,   0,   0,   0,   0,   0,   0,   0,   0,   0,  11, 203,\n",
              "        252, 252, 252, 251, 135,   0,   0,   0,   0,   0,   0,   0,   0,\n",
              "          0,   0],\n",
              "       [  0,   0,   0,   0,   0,   0,   0,   0,   0,   9,  76, 255, 253,\n",
              "        205, 168, 220, 255, 253, 137,   5,   0,   0,   0,   0,   0,   0,\n",
              "          0,   0],\n",
              "       [  0,   0,   0,   0,   0,   0,   0,   0,   0, 114, 252, 249, 132,\n",
              "         25,   0,   0, 180, 252, 252,  45,   0,   0,   0,   0,   0,   0,\n",
              "          0,   0],\n",
              "       [  0,   0,   0,   0,   0,   0,   0,   0,  51, 220, 252, 199,   0,\n",
              "          0,   0,   0,  38, 186, 252, 154,   7,   0,   0,   0,   0,   0,\n",
              "          0,   0],\n",
              "       [  0,   0,   0,   0,   0,   0,   0,   0, 184, 252, 252,  21,   0,\n",
              "          0,   0,   0,   0,  67, 252, 252,  22,   0,   0,   0,   0,   0,\n",
              "          0,   0],\n",
              "       [  0,   0,   0,   0,   0,   0,   0,   0, 184, 252, 200,   0,   0,\n",
              "          0,   0,   0,   0,  47, 252, 252,  22,   0,   0,   0,   0,   0,\n",
              "          0,   0],\n",
              "       [  0,   0,   0,   0,   0,   0,   0,   0, 185, 253, 201,   0,   0,\n",
              "          0,   0,   0,   3, 118, 253, 245,  21,   0,   0,   0,   0,   0,\n",
              "          0,   0],\n",
              "       [  0,   0,   0,   0,   0,   0,   0,   0, 163, 252, 252,   0,   0,\n",
              "          0,   0,   0,  97, 252, 252,  87,   0,   0,   0,   0,   0,   0,\n",
              "          0,   0],\n",
              "       [  0,   0,   0,   0,   0,   0,   0,   0,  51, 240, 252, 123,  70,\n",
              "         70, 112, 184, 222, 252, 170,  13,   0,   0,   0,   0,   0,   0,\n",
              "          0,   0],\n",
              "       [  0,   0,   0,   0,   0,   0,   0,   0,   0, 165, 252, 253, 252,\n",
              "        252, 252, 252, 245, 139,  13,   0,   0,   0,   0,   0,   0,   0,\n",
              "          0,   0],\n",
              "       [  0,   0,   0,   0,   0,   0,   0,   0,   0,   9,  75, 253, 252,\n",
              "        221, 137, 137,  21,   0,   0,   0,   0,   0,   0,   0,   0,   0,\n",
              "          0,   0],\n",
              "       [  0,   0,   0,   0,   0,   0,   0,   0,   0,   0,   0,   0,   0,\n",
              "          0,   0,   0,   0,   0,   0,   0,   0,   0,   0,   0,   0,   0,\n",
              "          0,   0],\n",
              "       [  0,   0,   0,   0,   0,   0,   0,   0,   0,   0,   0,   0,   0,\n",
              "          0,   0,   0,   0,   0,   0,   0,   0,   0,   0,   0,   0,   0,\n",
              "          0,   0],\n",
              "       [  0,   0,   0,   0,   0,   0,   0,   0,   0,   0,   0,   0,   0,\n",
              "          0,   0,   0,   0,   0,   0,   0,   0,   0,   0,   0,   0,   0,\n",
              "          0,   0]], dtype=uint8)"
            ]
          },
          "metadata": {
            "tags": []
          },
          "execution_count": 26
        }
      ]
    },
    {
      "cell_type": "code",
      "metadata": {
        "id": "R9yH_SgUGaVA",
        "colab_type": "code",
        "colab": {
          "base_uri": "https://localhost:8080/",
          "height": 34
        },
        "outputId": "2283cdc0-7a83-45c7-ef3a-0441a0251f95"
      },
      "source": [
        "# What is the corresponding label in the training set?\n",
        "y_train[333]"
      ],
      "execution_count": null,
      "outputs": [
        {
          "output_type": "execute_result",
          "data": {
            "text/plain": [
              "8"
            ]
          },
          "metadata": {
            "tags": []
          },
          "execution_count": 27
        }
      ]
    },
    {
      "cell_type": "code",
      "metadata": {
        "id": "2KI2qvZUGaVC",
        "colab_type": "code",
        "colab": {
          "base_uri": "https://localhost:8080/",
          "height": 282
        },
        "outputId": "ff09f784-3065-474a-9b48-f9459be619d4"
      },
      "source": [
        "# Let's see what this image actually looks like\n",
        "\n",
        "plt.imshow(x_train[333], cmap='Greys_r')"
      ],
      "execution_count": null,
      "outputs": [
        {
          "output_type": "execute_result",
          "data": {
            "text/plain": [
              "<matplotlib.image.AxesImage at 0x7ff9e645c0b8>"
            ]
          },
          "metadata": {
            "tags": []
          },
          "execution_count": 28
        },
        {
          "output_type": "display_data",
          "data": {
            "image/png": "[encoded data removed]",
            "text/plain": [
              "<Figure size 432x288 with 1 Axes>"
            ]
          },
          "metadata": {
            "tags": [],
            "needs_background": "light"
          }
        }
      ]
    },
    {
      "cell_type": "code",
      "metadata": {
        "id": "pcPp_WBxGaVG",
        "colab_type": "code",
        "colab": {
          "base_uri": "https://localhost:8080/",
          "height": 51
        },
        "outputId": "f006036d-3a7e-4951-8015-78abc443d24b"
      },
      "source": [
        "# this is the shape of the np.array x_train\n",
        "# it is 3 dimensional.\n",
        "print(x_train.shape, 'train samples')\n",
        "print(x_test.shape, 'test samples')"
      ],
      "execution_count": null,
      "outputs": [
        {
          "output_type": "stream",
          "text": [
            "(60000, 28, 28) train samples\n",
            "(10000, 28, 28) test samples\n"
          ],
          "name": "stdout"
        }
      ]
    },
    {
      "cell_type": "code",
      "metadata": {
        "id": "mgjWdaUAGaVI",
        "colab_type": "code",
        "colab": {}
      },
      "source": [
        "## For our purposes, these images are just a vector of 784 inputs, so let's convert\n",
        "x_train = x_train.reshape(len(x_train), 28*28)\n",
        "x_test = x_test.reshape(len(x_test), 28*28)\n",
        "\n",
        "## Keras works with floats, so we must cast the numbers to floats\n",
        "x_train = x_train.astype('float32')\n",
        "x_test = x_test.astype('float32')\n",
        "\n",
        "## Normalize the inputs so they are between 0 and 1\n",
        "x_train /= 255\n",
        "x_test /= 255\n"
      ],
      "execution_count": null,
      "outputs": []
    },
    {
      "cell_type": "code",
      "metadata": {
        "id": "LIuBaNlgGaVK",
        "colab_type": "code",
        "colab": {
          "base_uri": "https://localhost:8080/",
          "height": 34
        },
        "outputId": "f280fe28-0829-41af-a30d-956d5db89f87"
      },
      "source": [
        "# convert class vectors to binary class matrices\n",
        "num_classes = 10\n",
        "y_train = keras.utils.to_categorical(y_train, num_classes)\n",
        "y_test = keras.utils.to_categorical(y_test, num_classes)\n",
        "\n",
        "y_train[333]  # now the digit k is represented by a 1 in the kth entry (0-indexed) of the length 10 vector"
      ],
      "execution_count": null,
      "outputs": [
        {
          "output_type": "execute_result",
          "data": {
            "text/plain": [
              "array([0., 0., 0., 0., 0., 0., 0., 0., 1., 0.], dtype=float32)"
            ]
          },
          "metadata": {
            "tags": []
          },
          "execution_count": 31
        }
      ]
    },
    {
      "cell_type": "code",
      "metadata": {
        "id": "TJ_o0HstGaVN",
        "colab_type": "code",
        "colab": {}
      },
      "source": [
        "# We will build a model with two hidden layers of size 512\n",
        "# Fully connected inputs at each layer\n",
        "# We will use dropout of .5 to help regularize\n",
        "model_1 = Sequential()\n",
        "model_1.add(Dense(64, activation='relu', input_shape=(784,)))\n",
        "model_1.add(Dropout(0.5))\n",
        "model_1.add(Dense(64, activation='relu'))\n",
        "model_1.add(Dropout(0.5))\n",
        "model_1.add(Dense(10, activation='softmax'))"
      ],
      "execution_count": null,
      "outputs": []
    },
    {
      "cell_type": "code",
      "metadata": {
        "scrolled": true,
        "id": "vRqdlxuvGaVT",
        "colab_type": "code",
        "colab": {
          "base_uri": "https://localhost:8080/",
          "height": 323
        },
        "outputId": "db500503-1487-4c83-cfc7-0ea7cb31e558"
      },
      "source": [
        "## Note that this model has a LOT of parameters\n",
        "model_1.summary()"
      ],
      "execution_count": null,
      "outputs": [
        {
          "output_type": "stream",
          "text": [
            "Model: \"sequential_4\"\n",
            "_________________________________________________________________\n",
            "Layer (type)                 Output Shape              Param #   \n",
            "=================================================================\n",
            "dense_3 (Dense)              (None, 64)                50240     \n",
            "_________________________________________________________________\n",
            "dropout_3 (Dropout)          (None, 64)                0         \n",
            "_________________________________________________________________\n",
            "dense_4 (Dense)              (None, 64)                4160      \n",
            "_________________________________________________________________\n",
            "dropout_4 (Dropout)          (None, 64)                0         \n",
            "_________________________________________________________________\n",
            "dense_5 (Dense)              (None, 10)                650       \n",
            "=================================================================\n",
            "Total params: 55,050\n",
            "Trainable params: 55,050\n",
            "Non-trainable params: 0\n",
            "_________________________________________________________________\n"
          ],
          "name": "stdout"
        }
      ]
    },
    {
      "cell_type": "code",
      "metadata": {
        "id": "ErLq4OvcGaVV",
        "colab_type": "code",
        "colab": {}
      },
      "source": [
        "# Let's compile the model\n",
        "learning_rate = .001\n",
        "model_1.compile(loss='categorical_crossentropy',\n",
        "              optimizer=RMSprop(lr=learning_rate),\n",
        "              metrics=['accuracy'])\n",
        "# note that `categorical cross entropy` is the natural generalization \n",
        "# of the loss function we had in binary classification case, to multi class case"
      ],
      "execution_count": null,
      "outputs": []
    },
    {
      "cell_type": "code",
      "metadata": {
        "id": "w8k9BxHFGaVZ",
        "colab_type": "code",
        "colab": {
          "base_uri": "https://localhost:8080/",
          "height": 1000
        },
        "outputId": "c9a87996-65fc-4a85-e746-93d5e0700ac0"
      },
      "source": [
        "# And now let's fit.\n",
        "\n",
        "batch_size = 128  # mini-batch with 128 examples\n",
        "epochs = 30\n",
        "history = model_1.fit(\n",
        "    x_train, y_train,\n",
        "    batch_size=batch_size,\n",
        "    epochs=epochs,\n",
        "    verbose=1,\n",
        "    validation_data=(x_test, y_test))"
      ],
      "execution_count": null,
      "outputs": [
        {
          "output_type": "stream",
          "text": [
            "Train on 60000 samples, validate on 10000 samples\n",
            "Epoch 1/30\n",
            "60000/60000 [==============================] - 2s 30us/step - loss: 0.8838 - accuracy: 0.7188 - val_loss: 0.2904 - val_accuracy: 0.9149\n",
            "Epoch 2/30\n",
            "60000/60000 [==============================] - 1s 24us/step - loss: 0.4898 - accuracy: 0.8577 - val_loss: 0.2317 - val_accuracy: 0.9320\n",
            "Epoch 3/30\n",
            "60000/60000 [==============================] - 1s 24us/step - loss: 0.4157 - accuracy: 0.8830 - val_loss: 0.2075 - val_accuracy: 0.9386\n",
            "Epoch 4/30\n",
            "60000/60000 [==============================] - 1s 25us/step - loss: 0.3794 - accuracy: 0.8957 - val_loss: 0.1921 - val_accuracy: 0.9426\n",
            "Epoch 5/30\n",
            "60000/60000 [==============================] - 1s 24us/step - loss: 0.3550 - accuracy: 0.9008 - val_loss: 0.1880 - val_accuracy: 0.9460\n",
            "Epoch 6/30\n",
            "60000/60000 [==============================] - 1s 24us/step - loss: 0.3463 - accuracy: 0.9059 - val_loss: 0.1792 - val_accuracy: 0.9508\n",
            "Epoch 7/30\n",
            "60000/60000 [==============================] - 1s 24us/step - loss: 0.3273 - accuracy: 0.9098 - val_loss: 0.1769 - val_accuracy: 0.9531\n",
            "Epoch 8/30\n",
            "60000/60000 [==============================] - 1s 24us/step - loss: 0.3181 - accuracy: 0.9126 - val_loss: 0.1726 - val_accuracy: 0.9543\n",
            "Epoch 9/30\n",
            "60000/60000 [==============================] - 1s 24us/step - loss: 0.3154 - accuracy: 0.9129 - val_loss: 0.1735 - val_accuracy: 0.9538\n",
            "Epoch 10/30\n",
            "60000/60000 [==============================] - 1s 24us/step - loss: 0.3122 - accuracy: 0.9139 - val_loss: 0.1712 - val_accuracy: 0.9562\n",
            "Epoch 11/30\n",
            "60000/60000 [==============================] - 1s 25us/step - loss: 0.3042 - accuracy: 0.9195 - val_loss: 0.1759 - val_accuracy: 0.9549\n",
            "Epoch 12/30\n",
            "60000/60000 [==============================] - 1s 24us/step - loss: 0.3035 - accuracy: 0.9194 - val_loss: 0.1632 - val_accuracy: 0.9572\n",
            "Epoch 13/30\n",
            "60000/60000 [==============================] - 1s 24us/step - loss: 0.2992 - accuracy: 0.9207 - val_loss: 0.1731 - val_accuracy: 0.9595\n",
            "Epoch 14/30\n",
            "60000/60000 [==============================] - 1s 24us/step - loss: 0.2992 - accuracy: 0.9197 - val_loss: 0.1634 - val_accuracy: 0.9586\n",
            "Epoch 15/30\n",
            "60000/60000 [==============================] - 1s 24us/step - loss: 0.2970 - accuracy: 0.9213 - val_loss: 0.1735 - val_accuracy: 0.9568\n",
            "Epoch 16/30\n",
            "60000/60000 [==============================] - 1s 24us/step - loss: 0.2958 - accuracy: 0.9221 - val_loss: 0.1644 - val_accuracy: 0.9615\n",
            "Epoch 17/30\n",
            "60000/60000 [==============================] - 1s 24us/step - loss: 0.2901 - accuracy: 0.9231 - val_loss: 0.1758 - val_accuracy: 0.9576\n",
            "Epoch 18/30\n",
            "60000/60000 [==============================] - 1s 25us/step - loss: 0.2943 - accuracy: 0.9229 - val_loss: 0.1677 - val_accuracy: 0.9606\n",
            "Epoch 19/30\n",
            "60000/60000 [==============================] - 1s 24us/step - loss: 0.2901 - accuracy: 0.9233 - val_loss: 0.1705 - val_accuracy: 0.9610\n",
            "Epoch 20/30\n",
            "60000/60000 [==============================] - 1s 24us/step - loss: 0.2886 - accuracy: 0.9235 - val_loss: 0.1695 - val_accuracy: 0.9606\n",
            "Epoch 21/30\n",
            "60000/60000 [==============================] - 1s 24us/step - loss: 0.2957 - accuracy: 0.9221 - val_loss: 0.1682 - val_accuracy: 0.9607\n",
            "Epoch 22/30\n",
            "60000/60000 [==============================] - 1s 24us/step - loss: 0.2909 - accuracy: 0.9231 - val_loss: 0.1704 - val_accuracy: 0.9600\n",
            "Epoch 23/30\n",
            "60000/60000 [==============================] - 1s 24us/step - loss: 0.2890 - accuracy: 0.9240 - val_loss: 0.1775 - val_accuracy: 0.9623\n",
            "Epoch 24/30\n",
            "60000/60000 [==============================] - 1s 25us/step - loss: 0.2907 - accuracy: 0.9240 - val_loss: 0.1863 - val_accuracy: 0.9602\n",
            "Epoch 25/30\n",
            "60000/60000 [==============================] - 1s 24us/step - loss: 0.2864 - accuracy: 0.9245 - val_loss: 0.1890 - val_accuracy: 0.9610\n",
            "Epoch 26/30\n",
            "60000/60000 [==============================] - 1s 24us/step - loss: 0.2922 - accuracy: 0.9231 - val_loss: 0.1835 - val_accuracy: 0.9617\n",
            "Epoch 27/30\n",
            "60000/60000 [==============================] - 1s 24us/step - loss: 0.2941 - accuracy: 0.9238 - val_loss: 0.1844 - val_accuracy: 0.9605\n",
            "Epoch 28/30\n",
            "60000/60000 [==============================] - 1s 24us/step - loss: 0.2911 - accuracy: 0.9251 - val_loss: 0.1846 - val_accuracy: 0.9609\n",
            "Epoch 29/30\n",
            "60000/60000 [==============================] - 1s 24us/step - loss: 0.2906 - accuracy: 0.9256 - val_loss: 0.1855 - val_accuracy: 0.9606\n",
            "Epoch 30/30\n",
            "60000/60000 [==============================] - 1s 24us/step - loss: 0.2939 - accuracy: 0.9248 - val_loss: 0.1876 - val_accuracy: 0.9609\n"
          ],
          "name": "stdout"
        }
      ]
    },
    {
      "cell_type": "code",
      "metadata": {
        "id": "7QglsobgGaVb",
        "colab_type": "code",
        "colab": {
          "base_uri": "https://localhost:8080/",
          "height": 51
        },
        "outputId": "5c6b1da4-bfdb-4423-a147-782a6104e3eb"
      },
      "source": [
        "## We will use Keras evaluate function to evaluate performance on the test set\n",
        "\n",
        "score = model_1.evaluate(x_test, y_test, verbose=0)\n",
        "print('Test loss:', score[0])\n",
        "print('Test accuracy:', score[1])"
      ],
      "execution_count": null,
      "outputs": [
        {
          "output_type": "stream",
          "text": [
            "Test loss: 0.18763218788420782\n",
            "Test accuracy: 0.9609000086784363\n"
          ],
          "name": "stdout"
        }
      ]
    },
    {
      "cell_type": "code",
      "metadata": {
        "id": "3t-yMeykGaVe",
        "colab_type": "code",
        "colab": {
          "base_uri": "https://localhost:8080/",
          "height": 390
        },
        "outputId": "ae2bf707-2b4a-44fc-dc3c-8da3f307857b"
      },
      "source": [
        "def plot_loss_accuracy(history):\n",
        "    fig = plt.figure(figsize=(12, 6))\n",
        "    ax = fig.add_subplot(1, 2, 1)\n",
        "    ax.plot(history.history[\"loss\"],'r-x', label=\"Train Loss\")\n",
        "    ax.plot(history.history[\"val_loss\"],'b-x', label=\"Validation Loss\")\n",
        "    ax.legend()\n",
        "    ax.set_title('cross_entropy loss')\n",
        "    ax.grid(True)\n",
        "\n",
        "    ax = fig.add_subplot(1, 2, 2)\n",
        "    ax.plot(history.history[\"accuracy\"],'r-x', label=\"Train Accuracy\")\n",
        "    ax.plot(history.history[\"val_accuracy\"],'b-x', label=\"Validation Accuracy\")\n",
        "    ax.legend()\n",
        "    ax.set_title('accuracy')\n",
        "    ax.grid(True)\n",
        "    \n",
        "plot_loss_accuracy(history)"
      ],
      "execution_count": null,
      "outputs": [
        {
          "output_type": "display_data",
          "data": {
            "image/png": "[encoded data removed]",
            "text/plain": [
              "<Figure size 864x432 with 2 Axes>"
            ]
          },
          "metadata": {
            "tags": [],
            "needs_background": "light"
          }
        }
      ]
    },
    {
      "cell_type": "markdown",
      "metadata": {
        "id": "ocplu5QkGaVg",
        "colab_type": "text"
      },
      "source": [
        "This is reasonably good performance, but we can do even better!  Next you will build an even bigger network and compare the performance."
      ]
    },
    {
      "cell_type": "markdown",
      "metadata": {
        "id": "iTfJn6W6GaVo",
        "colab_type": "text"
      },
      "source": [
        "### Keras Layers for CNNs\n",
        "- Previously we built Neural Networks using primarily the Dense, Activation and Dropout Layers.\n",
        "\n",
        "- Here we will describe how to use some of the CNN-specific layers provided by Keras\n",
        "\n",
        "#### Conv2D\n",
        "\n",
        "```python\n",
        "keras.layers.convolutional.Conv2D(filters, kernel_size, strides=(1, 1), padding='valid', data_format=None, dilation_rate=(1, 1), activation=None, use_bias=True, kernel_initializer='glorot_uniform', bias_initializer='zeros', kernel_regularizer=None, bias_regularizer=None, activity_regularizer=None, kernel_constraint=None, bias_constraint=None, **kwargs)\n",
        "```\n",
        "\n",
        "A few parameters explained:\n",
        "- `filters`: the number of filter used per location.  In other words, the depth of the output.\n",
        "- `kernel_size`: an (x,y) tuple giving the height and width of the kernel to be used\n",
        "- `strides`: and (x,y) tuple giving the stride in each dimension.  Default is `(1,1)`\n",
        "- `input_shape`: required only for the first layer\n",
        "\n",
        "Note, the size of the output will be determined by the kernel_size, strides\n",
        "\n",
        "#### MaxPooling2D\n",
        "`keras.layers.pooling.MaxPooling2D(pool_size=(2, 2), strides=None, padding='valid', data_format=None)`\n",
        "\n",
        "- `pool_size`: the (x,y) size of the grid to be pooled.\n",
        "- `strides`: Assumed to be the `pool_size` unless otherwise specified\n",
        "\n",
        "#### Flatten\n",
        "Turns its input into a one-dimensional vector (per instance).  Usually used when transitioning between convolutional layers and fully connected layers.\n"
      ]
    },
    {
      "cell_type": "markdown",
      "metadata": {
        "id": "hmlOqMMjGaVp",
        "colab_type": "text"
      },
      "source": [
        "# Exercise\n",
        "### Build your own CNN model\n",
        "Use the Keras \"Sequential\" functionality to build a convolutional neural network `model_2` with the following specifications:\n",
        "<br>\n",
        "<br>\n",
        "Model Architecture:<br>\n",
        "We will build the famous LeNet-5 architecutre and measure its performance.\n",
        "<br>\n",
        "    Convolution -> Relu -> Max pooling -> Convolution -> Relu -> Max pooling -> FC1 -> Relu -> FC2 -> Relu -> Output(SoftMax)\n",
        "<br>\n",
        "\n",
        "1. Convolution1 kernel size: 5(H) x 5(W) x 6(filters), stride = 1, no padding\n",
        "2. Max pooling1 kernel size: 2(H) x 2(W), stride = 2\n",
        "3. Convolution2 kernel size: 5(H) x 5(W) x 16(filters), stride = 1, no padding\n",
        "4. Max pooling2 kernel size: 2(H) x 2(W), stride = 2\n",
        "5. Fully Connected1 size: 120\n",
        "6. Fully Connected2 size: 84\n",
        "7. Train this model for 20 epochs with RMSProp at a learning rate of .001 and a batch size of 128\n",
        "8. Plot the loss and accuracy graph for training the new model \n",
        "9. Evaluate the model on test data\n",
        "\n",
        "### Hints:\n",
        "<ul>\n",
        "  <li>You can match the model summary to the LeNet-5 diagram in your slides to verify your implmentation. \n",
        "<br>Slide: 07_Transfer_Learning -> Slide 27.\n",
        "<li>\n",
        "You will not be graded on the accuracy of your model but it should have a decent accuracy of at least 70%. Performance below 70% means there is something wrong with the implementation.\n",
        "<li> Check how to connect the output of Convolution layer with first Fully connected layer.\n",
        "<li> Do not use any padding or dropout in LeNet model, it can be used for Project Bonus / Fashion MNIST.\n",
        "    </li></ul>"
      ]
    },
    {
      "cell_type": "markdown",
      "metadata": {
        "id": "BUXvexLaGaVt",
        "colab_type": "text"
      },
      "source": [
        "To use the LeNet model, we need to do some preprocessing on the data first."
      ]
    },
    {
      "cell_type": "code",
      "metadata": {
        "id": "2S4i6pGfGaVu",
        "colab_type": "code",
        "colab": {
          "base_uri": "https://localhost:8080/",
          "height": 34
        },
        "outputId": "8e38915d-8fa2-4ddd-eb57-629abc9be153"
      },
      "source": [
        "# Data is currently flattened i.e. m X 784, we need to reshape it back to 28 * 28. To do that we reshape the data.\n",
        "\n",
        "x_train = np.reshape(x_train, [-1, 28, 28])\n",
        "x_test = np.reshape(x_test, [-1, 28, 28])\n",
        "x_train.shape, x_test.shape"
      ],
      "execution_count": null,
      "outputs": [
        {
          "output_type": "execute_result",
          "data": {
            "text/plain": [
              "((60000, 28, 28), (10000, 28, 28))"
            ]
          },
          "metadata": {
            "tags": []
          },
          "execution_count": 38
        }
      ]
    },
    {
      "cell_type": "code",
      "metadata": {
        "id": "7AkyzxGcGaVx",
        "colab_type": "code",
        "colab": {
          "base_uri": "https://localhost:8080/",
          "height": 34
        },
        "outputId": "c939850a-eb8e-4d6b-bb56-2a631c271823"
      },
      "source": [
        "# LeNet requires input of 32 X 32. So, we will pad the train and test images with zeros to increase the size to 32 X 32.\n",
        "\n",
        "x_train=np.pad(x_train, ((0,0), (2,2), (2, 2)), 'constant')\n",
        "x_test=np.pad(x_test, ((0,0), (2,2), (2, 2)), 'constant')\n",
        "x_train.shape, x_test.shape"
      ],
      "execution_count": null,
      "outputs": [
        {
          "output_type": "execute_result",
          "data": {
            "text/plain": [
              "((60000, 32, 32), (10000, 32, 32))"
            ]
          },
          "metadata": {
            "tags": []
          },
          "execution_count": 39
        }
      ]
    },
    {
      "cell_type": "code",
      "metadata": {
        "id": "dvvgE-glGaVz",
        "colab_type": "code",
        "colab": {
          "base_uri": "https://localhost:8080/",
          "height": 34
        },
        "outputId": "7db3f2c1-73f0-497d-e322-95d36a6a868a"
      },
      "source": [
        "# Convolutional model requires input to be of 3 dimensions. We will add a channel dimension to it.\n",
        "\n",
        "x_train = np.reshape(x_train, [-1, 32, 32, 1])\n",
        "x_test = np.reshape(x_test, [-1, 32, 32, 1])\n",
        "x_train.shape, x_test.shape"
      ],
      "execution_count": null,
      "outputs": [
        {
          "output_type": "execute_result",
          "data": {
            "text/plain": [
              "((60000, 32, 32, 1), (10000, 32, 32, 1))"
            ]
          },
          "metadata": {
            "tags": []
          },
          "execution_count": 40
        }
      ]
    },
    {
      "cell_type": "markdown",
      "metadata": {
        "id": "q2ek1h1HGaV2",
        "colab_type": "text"
      },
      "source": [
        "Write your code below"
      ]
    },
    {
      "cell_type": "code",
      "metadata": {
        "id": "uW1rHufhGaV2",
        "colab_type": "code",
        "colab": {
          "base_uri": "https://localhost:8080/",
          "height": 425
        },
        "outputId": "e6f3dfa2-8ad8-4d7b-9ebc-436730f8d8f8"
      },
      "source": [
        "# Kartik Gupta, ASU ID: 1211493475\n",
        "# This model is built with Le-Net 5 structure\n",
        "#Conv Layer 1\n",
        "model_2 = Sequential()\n",
        "model_2.add(Conv2D(filters = 6, kernel_size = (5, 5), strides = 1, activation = 'relu', input_shape = (32,32,1)))\n",
        "# Pooling layer 1\n",
        "model_2.add(MaxPooling2D(pool_size =(2, 2), strides = 2))\n",
        "#Layer 2\n",
        "#Conv Layer 2\n",
        "model_2.add(Conv2D(filters = 16, kernel_size = (5, 5), strides = 1, activation = 'relu', input_shape = (14,14,6)))\n",
        "#Pooling Layer 2\n",
        "model_2.add(MaxPooling2D(pool_size = 2, strides = 2))\n",
        "#Flatten\n",
        "model_2.add(Flatten())\n",
        "#Layer 3\n",
        "#Fully connected layer 1\n",
        "model_2.add(Dense(units = 120, activation = 'relu'))\n",
        "#Layer 4\n",
        "#Fully connected layer 2\n",
        "model_2.add(Dense(units = 84, activation = 'relu'))\n",
        "#Layer 5\n",
        "#Output Layer\n",
        "model_2.add(Dense(units = 10, activation = 'softmax'))\n",
        "\n",
        "model_2.summary()"
      ],
      "execution_count": null,
      "outputs": [
        {
          "output_type": "stream",
          "text": [
            "Model: \"sequential_5\"\n",
            "_________________________________________________________________\n",
            "Layer (type)                 Output Shape              Param #   \n",
            "=================================================================\n",
            "conv2d_5 (Conv2D)            (None, 28, 28, 6)         156       \n",
            "_________________________________________________________________\n",
            "max_pooling2d_5 (MaxPooling2 (None, 14, 14, 6)         0         \n",
            "_________________________________________________________________\n",
            "conv2d_6 (Conv2D)            (None, 10, 10, 16)        2416      \n",
            "_________________________________________________________________\n",
            "max_pooling2d_6 (MaxPooling2 (None, 5, 5, 16)          0         \n",
            "_________________________________________________________________\n",
            "flatten_2 (Flatten)          (None, 400)               0         \n",
            "_________________________________________________________________\n",
            "dense_6 (Dense)              (None, 120)               48120     \n",
            "_________________________________________________________________\n",
            "dense_7 (Dense)              (None, 84)                10164     \n",
            "_________________________________________________________________\n",
            "dense_8 (Dense)              (None, 10)                850       \n",
            "=================================================================\n",
            "Total params: 61,706\n",
            "Trainable params: 61,706\n",
            "Non-trainable params: 0\n",
            "_________________________________________________________________\n"
          ],
          "name": "stdout"
        }
      ]
    },
    {
      "cell_type": "code",
      "metadata": {
        "id": "0646I587GaV4",
        "colab_type": "code",
        "colab": {
          "base_uri": "https://localhost:8080/",
          "height": 714
        },
        "outputId": "661d4967-8e39-4817-a493-50f049797c03"
      },
      "source": [
        "# Compiling model_2\n",
        "learning_rate = .001\n",
        "model_2.compile(loss='categorical_crossentropy',\n",
        "              optimizer=RMSprop(lr=learning_rate),\n",
        "              metrics=['accuracy'])\n",
        "\n",
        "batch_size = 128  # mini-batch with 128 examples\n",
        "epochs = 20   # 20 epochs\n",
        "history = model_2.fit(\n",
        "    x_train, y_train,\n",
        "    batch_size=batch_size,\n",
        "    epochs=epochs,\n",
        "    verbose=1,\n",
        "    validation_data=(x_test, y_test))"
      ],
      "execution_count": null,
      "outputs": [
        {
          "output_type": "stream",
          "text": [
            "Train on 60000 samples, validate on 10000 samples\n",
            "Epoch 1/20\n",
            "60000/60000 [==============================] - 31s 513us/step - loss: 0.2877 - accuracy: 0.9113 - val_loss: 0.0926 - val_accuracy: 0.9718\n",
            "Epoch 2/20\n",
            "60000/60000 [==============================] - 30s 506us/step - loss: 0.0778 - accuracy: 0.9758 - val_loss: 0.0517 - val_accuracy: 0.9818\n",
            "Epoch 3/20\n",
            "60000/60000 [==============================] - 31s 514us/step - loss: 0.0522 - accuracy: 0.9840 - val_loss: 0.0427 - val_accuracy: 0.9846\n",
            "Epoch 4/20\n",
            "60000/60000 [==============================] - 31s 513us/step - loss: 0.0397 - accuracy: 0.9876 - val_loss: 0.0396 - val_accuracy: 0.9873\n",
            "Epoch 5/20\n",
            "60000/60000 [==============================] - 31s 512us/step - loss: 0.0318 - accuracy: 0.9898 - val_loss: 0.0423 - val_accuracy: 0.9865\n",
            "Epoch 6/20\n",
            "60000/60000 [==============================] - 30s 506us/step - loss: 0.0261 - accuracy: 0.9916 - val_loss: 0.0280 - val_accuracy: 0.9907\n",
            "Epoch 7/20\n",
            "60000/60000 [==============================] - 31s 512us/step - loss: 0.0224 - accuracy: 0.9927 - val_loss: 0.0334 - val_accuracy: 0.9901\n",
            "Epoch 8/20\n",
            "60000/60000 [==============================] - 31s 515us/step - loss: 0.0193 - accuracy: 0.9941 - val_loss: 0.0328 - val_accuracy: 0.9891\n",
            "Epoch 9/20\n",
            "60000/60000 [==============================] - 31s 515us/step - loss: 0.0162 - accuracy: 0.9948 - val_loss: 0.0311 - val_accuracy: 0.9903\n",
            "Epoch 10/20\n",
            "60000/60000 [==============================] - 31s 513us/step - loss: 0.0140 - accuracy: 0.9955 - val_loss: 0.0343 - val_accuracy: 0.9892\n",
            "Epoch 11/20\n",
            "60000/60000 [==============================] - 31s 510us/step - loss: 0.0118 - accuracy: 0.9959 - val_loss: 0.0306 - val_accuracy: 0.9908\n",
            "Epoch 12/20\n",
            "60000/60000 [==============================] - 31s 516us/step - loss: 0.0108 - accuracy: 0.9964 - val_loss: 0.0365 - val_accuracy: 0.9911\n",
            "Epoch 13/20\n",
            "60000/60000 [==============================] - 32s 525us/step - loss: 0.0095 - accuracy: 0.9970 - val_loss: 0.0358 - val_accuracy: 0.9914\n",
            "Epoch 14/20\n",
            "60000/60000 [==============================] - 31s 519us/step - loss: 0.0079 - accuracy: 0.9976 - val_loss: 0.0513 - val_accuracy: 0.9886\n",
            "Epoch 15/20\n",
            "60000/60000 [==============================] - 31s 517us/step - loss: 0.0070 - accuracy: 0.9975 - val_loss: 0.0565 - val_accuracy: 0.9874\n",
            "Epoch 16/20\n",
            "60000/60000 [==============================] - 31s 519us/step - loss: 0.0069 - accuracy: 0.9976 - val_loss: 0.0441 - val_accuracy: 0.9903\n",
            "Epoch 17/20\n",
            "60000/60000 [==============================] - 31s 512us/step - loss: 0.0054 - accuracy: 0.9981 - val_loss: 0.0409 - val_accuracy: 0.9907\n",
            "Epoch 18/20\n",
            "60000/60000 [==============================] - 31s 517us/step - loss: 0.0052 - accuracy: 0.9983 - val_loss: 0.0521 - val_accuracy: 0.9904\n",
            "Epoch 19/20\n",
            "60000/60000 [==============================] - 31s 519us/step - loss: 0.0047 - accuracy: 0.9983 - val_loss: 0.0453 - val_accuracy: 0.9921\n",
            "Epoch 20/20\n",
            "60000/60000 [==============================] - 31s 518us/step - loss: 0.0040 - accuracy: 0.9986 - val_loss: 0.0480 - val_accuracy: 0.9914\n"
          ],
          "name": "stdout"
        }
      ]
    },
    {
      "cell_type": "code",
      "metadata": {
        "id": "aWsH8egLce3y",
        "colab_type": "code",
        "colab": {
          "base_uri": "https://localhost:8080/",
          "height": 51
        },
        "outputId": "e8b97884-ea45-40cc-dcde-6f8efcad86f2"
      },
      "source": [
        "## Evaluating the model_2 on the test data for test loss and test acuracy\n",
        "\n",
        "score = model_2.evaluate(x_test, y_test, verbose=0)\n",
        "print('Test loss:', score[0])\n",
        "print('Test accuracy:', score[1])"
      ],
      "execution_count": null,
      "outputs": [
        {
          "output_type": "stream",
          "text": [
            "Test loss: 0.047990676363481484\n",
            "Test accuracy: 0.9914000034332275\n"
          ],
          "name": "stdout"
        }
      ]
    },
    {
      "cell_type": "code",
      "metadata": {
        "id": "tkPPgFS6cmMZ",
        "colab_type": "code",
        "colab": {
          "base_uri": "https://localhost:8080/",
          "height": 390
        },
        "outputId": "1dbee8e6-59c6-4bb7-da3f-91acf47be62f"
      },
      "source": [
        "def plot_loss_accuracy(history):\n",
        "    fig = plt.figure(figsize=(14, 6))\n",
        "    ax = fig.add_subplot(1, 2, 1)\n",
        "    ax.plot(history.history[\"loss\"],'r-x', label=\"Train Loss\")\n",
        "    ax.plot(history.history[\"val_loss\"],'b-x', label=\"Validation Loss\")\n",
        "    ax.legend()\n",
        "    ax.set_title('cross_entropy loss')\n",
        "    ax.grid(True)\n",
        "\n",
        "    ax = fig.add_subplot(1, 2, 2)\n",
        "    ax.plot(history.history[\"accuracy\"],'r-x', label=\"Train Accuracy\")\n",
        "    ax.plot(history.history[\"val_accuracy\"],'b-x', label=\"Validation Accuracy\")\n",
        "    ax.legend()\n",
        "    ax.set_title('accuracy')\n",
        "    ax.grid(True)\n",
        "    \n",
        "plot_loss_accuracy(history)"
      ],
      "execution_count": null,
      "outputs": [
        {
          "output_type": "display_data",
          "data": {
            "image/png": "[encoded data removed]",
            "text/plain": [
              "<Figure size 1008x432 with 2 Axes>"
            ]
          },
          "metadata": {
            "tags": [],
            "needs_background": "light"
          }
        }
      ]
    },
    {
      "cell_type": "markdown",
      "metadata": {
        "collapsed": true,
        "id": "-gQI0tTQGaV6",
        "colab_type": "text"
      },
      "source": [
        "## Answer following questions\n",
        "\n",
        "1) How do model_1 and model_2 compare?  Which do you prefer?  If you were going to put one into production, which would you choose and why?\n",
        "\n",
        "2) Compare the trajectories of the loss function on the training set and test set for each model?  How do they compare?  What does that suggest about each model?  Do the same for accuracy?  Which do you think is more meaningful, the loss or the accuracy?"
      ]
    },
    {
      "cell_type": "markdown",
      "metadata": {
        "id": "Ecpb94Ymgqd8",
        "colab_type": "text"
      },
      "source": [
        "**Answer** 1) Model_2 shows higher test accuracy with more than 99% and lower test loss as compared to model_1. model_2 most effeciently uses the convulations to learn features on the data set. Model 2 consists of deeper neural networks that means it consists of more layers than model 1 and does better optimization of weights leading to higher accuracy than model 1. Therefore, I prefer model_2 over model_1. I would definitely choose model_2 to put into production because our model should be able to deal with the unseen data. Test accuracy and Test loss demonstrates the capability of the model to deal with the unseen data. Since both train loss and accuracy are better for the model_2 where we used Le-net 5 CNN model, therefore, I prefer to use model_2. Also, the deeper neural network is being represented by the second model which leads to better optimization of weights and more accurate model."
      ]
    },
    {
      "cell_type": "markdown",
      "metadata": {
        "id": "2JndyLMt8hus",
        "colab_type": "text"
      },
      "source": [
        "**Answer** 2)  For both the models train loss dcreases with a steep slope initially and then decreases gradually. However, for the model 2 the loss function keeps on decreasing for the entire run, whereas, for model 1 tests loss almost becomes constant after 15 epochs. For the test set, the loss function for model 2 begins at 0.09 and gradually decreases to 0.05 approximately, however, the loss function for model_1 begins at 0.30 and gradually decreases to 0.20 approximately. The loss function is used to train the neural network and optimize the weights. Better loss function means the better prediction model. Model 1 has higher value for test and train loss throughout the trajectory. suggesting that model 2 better for prediction than model 1.\n",
        "\n",
        "Accuracy for both the models is like a mirror image of the loss function with respect to x-axis. Training accuracy increases for model 2 and resembles a log function. Training Accuracy for model 1 also increases gradually. However the training accuracy for the model 2 is higher than model 1. Test accuracy for model 2 is icreases and decreases in small steps for the entire number of epochs. Finally, the test accuracy for model 2 is more than 99% which is higher than the model 1 which almost becomes consistent after the run of 20 epochs.\n",
        "\n",
        "A loss function is used to optimize a machine learning algorithm. Loss value implies how poorly or well a model behaves after each iteration of optimization. An accuracy metric is used to measure the algorithm's performance in an interpretable way. Its basically how many correct predictions based on the total number of predictions. I believe that loss function is more important than the accuracy because a model learn by means of a loss function. It evaluates how well specific algorithm models the given data. If predictions deviates too much from actual results, loss function would result in a very large number."
      ]
    },
    {
      "cell_type": "markdown",
      "metadata": {
        "id": "22u3CPysGaV-",
        "colab_type": "text"
      },
      "source": [
        "# Fashion MNIST\n",
        "We will do the similar things for Fashion MNIST dataset. Fashion MNIST has 10 categories of clothing items:<br>\n",
        "\n",
        "| Label | Description | \n",
        "| --- | --- | \n",
        "| 0 | T-shirt/top |\n",
        "| 1 | Trouser |\n",
        "| 2 | Pullover |\n",
        "| 3 | Dress |\n",
        "| 4 | Coat |\n",
        "| 5 | Sandal |\n",
        "| 6 | Shirt |\n",
        "| 7 | Sneaker |\n",
        "| 8 | Bag |\n",
        "| 9 | Ankle boot |"
      ]
    },
    {
      "cell_type": "code",
      "metadata": {
        "id": "8PTwdIJmGaV-",
        "colab_type": "code",
        "colab": {}
      },
      "source": [
        "# Load the data, shuffled and split between train and test sets\n",
        "(x_train, y_train), (x_test, y_test) = fashion_mnist.load_data()"
      ],
      "execution_count": null,
      "outputs": []
    },
    {
      "cell_type": "code",
      "metadata": {
        "id": "5Qmuh1PCGaWI",
        "colab_type": "code",
        "colab": {
          "base_uri": "https://localhost:8080/",
          "height": 34
        },
        "outputId": "f38175bc-8e3c-4009-cbf3-11f398ba7331"
      },
      "source": [
        "x_train[0].shape"
      ],
      "execution_count": null,
      "outputs": [
        {
          "output_type": "execute_result",
          "data": {
            "text/plain": [
              "(28, 28)"
            ]
          },
          "metadata": {
            "tags": []
          },
          "execution_count": 46
        }
      ]
    },
    {
      "cell_type": "code",
      "metadata": {
        "id": "v2KGCdVLGaWL",
        "colab_type": "code",
        "colab": {
          "base_uri": "https://localhost:8080/",
          "height": 1000
        },
        "outputId": "eb2d4861-77d8-481a-ee7d-182decd1e37c"
      },
      "source": [
        "#Let's just look at a particular example to see what is inside\n",
        "\n",
        "x_train[333]  ## Just a 28 x 28 numpy array of ints from 0 to 255"
      ],
      "execution_count": null,
      "outputs": [
        {
          "output_type": "execute_result",
          "data": {
            "text/plain": [
              "array([[  0,   0,   0,   0,   0,   0,   0,   0,   0,   0,   0,   3,   0,\n",
              "         42,  92,  71, 107,  33,   0,   3,   0,   1,   0,   0,   0,   0,\n",
              "          0,   0],\n",
              "       [  0,   0,   0,   0,   0,   0,   0,   0,   0,   0,   2,   0,  23,\n",
              "        145,   0,   0,   0, 113,  20,   0,   3,   0,   0,   0,   0,   0,\n",
              "          0,   0],\n",
              "       [  0,   0,   0,   0,   0,   0,   0,   0,   0,   0,   0,   0,  89,\n",
              "          8,   0,  10,   0,  36, 104,   0,   2,   0,   0,   0,   0,   0,\n",
              "          0,   0],\n",
              "       [  0,   0,   0,   0,   0,   0,   0,   0,   0,   3,   0,  37,  97,\n",
              "          0,   5,   1,   0,   0, 141,  23,   0,   2,   0,   0,   0,   0,\n",
              "          0,   0],\n",
              "       [  0,   0,   0,   0,   0,   0,   0,   0,   0,   5,   0,  70,  75,\n",
              "          0,   6,   1,   0,   0, 141,  56,   0,   5,   0,   0,   0,   0,\n",
              "          0,   0],\n",
              "       [  0,   0,   0,   0,   0,   0,   0,   0,   0,   6,   0,  85,  57,\n",
              "          0,   5,   1,   1,   0, 126,  62,   0,   6,   0,   0,   0,   0,\n",
              "          0,   0],\n",
              "       [  0,   0,   0,   0,   0,   0,   0,   0,   0,   6,   0,  85,  44,\n",
              "          0,   3,   0,   4,   0, 109,  66,   0,   6,   0,   0,   0,   0,\n",
              "          0,   0],\n",
              "       [  0,   0,   0,   0,   0,   0,   0,   0,   0,   6,   0,  75,  41,\n",
              "          0,   3,   0,   5,   0,  89,  68,   0,   6,   0,   0,   0,   0,\n",
              "          0,   0],\n",
              "       [  0,   0,   0,   0,   0,   0,   0,   0,   0,   5,   0,  71,  44,\n",
              "          0,   3,   0,   6,   0,  74,  69,   0,   6,   0,   0,   0,   0,\n",
              "          0,   0],\n",
              "       [  0,   0,   0,   0,   0,   0,   0,   0,   0,   4,   0,  80,  68,\n",
              "          0,   4,   0,   5,   0,  89,  85,   0,   6,   0,   0,   0,   0,\n",
              "          0,   0],\n",
              "       [  0,   0,   0,   0,   0,   0,   0,   2,   3,   8,   0,  74,  89,\n",
              "          0,  10,   3,  10,   0,  98,  84,   0,  10,   4,   3,   0,   0,\n",
              "          0,   0],\n",
              "       [  0,   0,   0,   0,   0,   0,   0,   0,   0,   0,   0,  30,  80,\n",
              "          0,   0,   0,   0,   0,  69,  37,   0,   0,   0,   0,   0,   0,\n",
              "          0,   0],\n",
              "       [  0,   0,   0,   0,   0,   2,   0,  80, 117, 118,  92, 125, 144,\n",
              "        109, 141, 126, 132, 115, 151, 141, 130, 142, 150,  57,   0,   0,\n",
              "          0,   0],\n",
              "       [  0,   0,   0,   0,   0,   0,   0,  81, 162, 158, 153, 165, 192,\n",
              "        182, 196, 187, 172, 183, 203, 206, 195, 188, 200, 140,   0,   0,\n",
              "          0,   0],\n",
              "       [  0,   0,   0,   0,   0,   0,   0, 114, 158, 169, 164, 164, 196,\n",
              "        183, 177, 168, 163, 174, 195, 198, 195, 174, 170, 142,   0,   0,\n",
              "          0,   0],\n",
              "       [  0,   0,   0,   0,   0,   0,   0, 186, 166, 161, 180, 183, 214,\n",
              "        181, 158, 163, 181, 186, 197, 186, 184, 193, 197,  86,   0,   0,\n",
              "          0,   0],\n",
              "       [  0,   0,   0,   0,   0,   0,   0, 162, 195, 185, 182, 186, 186,\n",
              "        186, 193, 194, 194, 196, 195, 195, 192, 184, 215, 161,   0,   0,\n",
              "          0,   0],\n",
              "       [  0,   0,   0,   0,   0,   0,   0, 165, 233, 219, 230, 235, 230,\n",
              "        228, 229, 229, 221, 218, 217, 215, 212, 204, 221, 160,   0,   0,\n",
              "          0,   0],\n",
              "       [  0,   0,   0,   0,   0,   0, 134, 202, 221, 218, 220, 224, 222,\n",
              "        220, 219, 221, 219, 213, 213, 208, 208, 199, 220, 142,   0,   0,\n",
              "          0,   0],\n",
              "       [  0,   0,   0,   0,   0,  92, 213, 205, 233, 217, 226, 225, 226,\n",
              "        222, 220, 219, 219, 217, 214, 212, 209, 195, 231, 126,   0,   0,\n",
              "          0,   0],\n",
              "       [  0,   0,   0,   0,   0, 120,   0, 187, 247, 221, 224, 225, 222,\n",
              "        218, 219, 219, 219, 216, 214, 212, 210, 197, 246, 130,   0,   0,\n",
              "          0,   0],\n",
              "       [  0,   0,   0,   0,   0,   0,   0, 206, 243, 231, 228, 230, 228,\n",
              "        225, 226, 225, 222, 217, 215, 215, 211, 212, 255, 126,   0,   0,\n",
              "          0,   0],\n",
              "       [  0,   0,   0,   0,   0,  68,   0, 149, 244, 227, 229, 235, 229,\n",
              "        228, 227, 216, 212, 211, 211, 211, 209, 214, 233, 120,   0,   0,\n",
              "          0,   0],\n",
              "       [  0,   0,   0,   0,   0, 117, 124, 151, 242, 232, 238, 237, 232,\n",
              "        230, 226, 216, 213, 215, 211, 208, 206, 214, 232, 114,   0,   0,\n",
              "          0,   0],\n",
              "       [  0,   0,   0,   0,   0,   0, 138, 225, 213, 218, 231, 234, 234,\n",
              "        237, 227, 199, 204, 213, 208, 204, 203, 214, 231, 112,   0,   0,\n",
              "          0,   0],\n",
              "       [  0,   0,   0,   0,   0,   0,  19, 222, 218, 214, 206, 208, 220,\n",
              "        228, 224, 222, 224, 220, 220, 220, 221, 226, 237, 132,   0,   0,\n",
              "          0,   0],\n",
              "       [  0,   0,   0,   0,   0,   0,  56, 211, 230, 229, 227, 197, 173,\n",
              "        193, 240,  50,  50,  58,  55,  56,  59,  57,  70,  11,   0,   0,\n",
              "          0,   0],\n",
              "       [  0,   0,   0,   0,   0,   0,   0,   0,  94, 157, 193, 222, 219,\n",
              "        205, 140,   0,   0,   0,   0,   0,   0,   0,   0,   0,   0,   0,\n",
              "          0,   0]], dtype=uint8)"
            ]
          },
          "metadata": {
            "tags": []
          },
          "execution_count": 47
        }
      ]
    },
    {
      "cell_type": "code",
      "metadata": {
        "id": "Y5QkqExEGaWO",
        "colab_type": "code",
        "colab": {
          "base_uri": "https://localhost:8080/",
          "height": 34
        },
        "outputId": "92630254-3702-4300-c45c-a740d8fe4a1e"
      },
      "source": [
        "# What is the corresponding label in the training set?\n",
        "y_train[333]"
      ],
      "execution_count": null,
      "outputs": [
        {
          "output_type": "execute_result",
          "data": {
            "text/plain": [
              "8"
            ]
          },
          "metadata": {
            "tags": []
          },
          "execution_count": 48
        }
      ]
    },
    {
      "cell_type": "code",
      "metadata": {
        "id": "3LNxixgIGaWR",
        "colab_type": "code",
        "colab": {
          "base_uri": "https://localhost:8080/",
          "height": 282
        },
        "outputId": "591f693a-bccb-40e7-e7c2-14e24e1886a9"
      },
      "source": [
        "# Let's see what this image actually looks like\n",
        "\n",
        "plt.imshow(x_train[333], cmap='Greys_r')"
      ],
      "execution_count": null,
      "outputs": [
        {
          "output_type": "execute_result",
          "data": {
            "text/plain": [
              "<matplotlib.image.AxesImage at 0x7ff9e4d06e80>"
            ]
          },
          "metadata": {
            "tags": []
          },
          "execution_count": 49
        },
        {
          "output_type": "display_data",
          "data": {
            "image/png": "[encoded data removed]",
            "text/plain": [
              "<Figure size 432x288 with 1 Axes>"
            ]
          },
          "metadata": {
            "tags": [],
            "needs_background": "light"
          }
        }
      ]
    },
    {
      "cell_type": "code",
      "metadata": {
        "id": "-pd1fDaUGaWT",
        "colab_type": "code",
        "colab": {
          "base_uri": "https://localhost:8080/",
          "height": 51
        },
        "outputId": "33569510-0ff9-4a67-cbaf-b36b4876a8db"
      },
      "source": [
        "# this is the shape of the np.array x_train\n",
        "# it is 3 dimensional.\n",
        "print(x_train.shape, 'train samples')\n",
        "print(x_test.shape, 'test samples')"
      ],
      "execution_count": null,
      "outputs": [
        {
          "output_type": "stream",
          "text": [
            "(60000, 28, 28) train samples\n",
            "(10000, 28, 28) test samples\n"
          ],
          "name": "stdout"
        }
      ]
    },
    {
      "cell_type": "code",
      "metadata": {
        "id": "zj2Zg7fQGaWY",
        "colab_type": "code",
        "colab": {}
      },
      "source": [
        "## For our purposes, these images are just a vector of 784 inputs, so let's convert\n",
        "x_train = x_train.reshape(len(x_train), 28*28)\n",
        "x_test = x_test.reshape(len(x_test), 28*28)\n",
        "\n",
        "## Keras works with floats, so we must cast the numbers to floats\n",
        "x_train = x_train.astype('float32')\n",
        "x_test = x_test.astype('float32')\n",
        "\n",
        "## Normalize the inputs so they are between 0 and 1\n",
        "x_train /= 255\n",
        "x_test /= 255"
      ],
      "execution_count": null,
      "outputs": []
    },
    {
      "cell_type": "code",
      "metadata": {
        "id": "63OUhuXGGaWb",
        "colab_type": "code",
        "colab": {
          "base_uri": "https://localhost:8080/",
          "height": 34
        },
        "outputId": "33d9a06b-fbe6-4d8f-feae-fbfc0eb01a40"
      },
      "source": [
        "# convert class vectors to binary class matrices\n",
        "num_classes = 10\n",
        "y_train = keras.utils.to_categorical(y_train, num_classes)\n",
        "y_test = keras.utils.to_categorical(y_test, num_classes)\n",
        "\n",
        "y_train[333]  "
      ],
      "execution_count": null,
      "outputs": [
        {
          "output_type": "execute_result",
          "data": {
            "text/plain": [
              "array([0., 0., 0., 0., 0., 0., 0., 0., 1., 0.], dtype=float32)"
            ]
          },
          "metadata": {
            "tags": []
          },
          "execution_count": 52
        }
      ]
    },
    {
      "cell_type": "markdown",
      "metadata": {
        "id": "QliURp2EGaWe",
        "colab_type": "text"
      },
      "source": [
        "## Reperforming the earlier preprocessing methods"
      ]
    },
    {
      "cell_type": "code",
      "metadata": {
        "id": "uZcWQh1gGaWf",
        "colab_type": "code",
        "colab": {
          "base_uri": "https://localhost:8080/",
          "height": 34
        },
        "outputId": "dd6b9f9e-e9e2-4a20-f855-4684d6759c95"
      },
      "source": [
        "# Data is currently flattened i.e. m X 784, we need to reshape it back to 28 * 28. To do that we reshape the data.\n",
        "\n",
        "x_train = np.reshape(x_train, [-1, 28, 28])\n",
        "x_test = np.reshape(x_test, [-1, 28, 28])\n",
        "x_train.shape, x_test.shape"
      ],
      "execution_count": null,
      "outputs": [
        {
          "output_type": "execute_result",
          "data": {
            "text/plain": [
              "((60000, 28, 28), (10000, 28, 28))"
            ]
          },
          "metadata": {
            "tags": []
          },
          "execution_count": 53
        }
      ]
    },
    {
      "cell_type": "code",
      "metadata": {
        "id": "sN8bklPgGaWj",
        "colab_type": "code",
        "colab": {
          "base_uri": "https://localhost:8080/",
          "height": 34
        },
        "outputId": "dd1b2a4f-3235-462a-eeec-64640759dbee"
      },
      "source": [
        "# LeNet requires input of 32 X 32. So, we will pad the train and test images with zeros to increase the size to 32 X 32.\n",
        "\n",
        "x_train=np.pad(x_train, ((0,0), (2,2), (2, 2)), 'constant')\n",
        "x_test=np.pad(x_test, ((0,0), (2,2), (2, 2)), 'constant')\n",
        "x_train.shape, x_test.shape"
      ],
      "execution_count": null,
      "outputs": [
        {
          "output_type": "execute_result",
          "data": {
            "text/plain": [
              "((60000, 32, 32), (10000, 32, 32))"
            ]
          },
          "metadata": {
            "tags": []
          },
          "execution_count": 54
        }
      ]
    },
    {
      "cell_type": "code",
      "metadata": {
        "id": "ugf7VghiGaWn",
        "colab_type": "code",
        "colab": {
          "base_uri": "https://localhost:8080/",
          "height": 34
        },
        "outputId": "64f10916-ed79-4e11-c819-3478b8896b52"
      },
      "source": [
        "# Convolutional model requires input to be of 3 dimensions. We will add a channel dimension to it.\n",
        "\n",
        "x_train = np.reshape(x_train, [-1, 32, 32, 1])\n",
        "x_test = np.reshape(x_test, [-1, 32, 32, 1])\n",
        "x_train.shape, x_test.shape"
      ],
      "execution_count": null,
      "outputs": [
        {
          "output_type": "execute_result",
          "data": {
            "text/plain": [
              "((60000, 32, 32, 1), (10000, 32, 32, 1))"
            ]
          },
          "metadata": {
            "tags": []
          },
          "execution_count": 55
        }
      ]
    },
    {
      "cell_type": "markdown",
      "metadata": {
        "id": "Ko03DUcaGaWq",
        "colab_type": "text"
      },
      "source": [
        "Build a similar convolutional model with a differnet structure, learning rate or number of epochs, etc. that you think will result in a good model for this dataset. Report the accuracy on test dataset."
      ]
    },
    {
      "cell_type": "code",
      "metadata": {
        "id": "5fSMRiveGaWq",
        "colab_type": "code",
        "colab": {}
      },
      "source": [
        "# write your code here.\n",
        "from keras.layers import Dense, Dropout, Conv2D, MaxPooling2D, Flatten, BatchNormalization\n",
        "from keras.optimizers import RMSprop\n",
        "from keras.datasets import fashion_mnist"
      ],
      "execution_count": null,
      "outputs": []
    },
    {
      "cell_type": "code",
      "metadata": {
        "id": "HaNeslz8GaWv",
        "colab_type": "code",
        "colab": {
          "base_uri": "https://localhost:8080/",
          "height": 527
        },
        "outputId": "f54c2b9b-42b3-4fb3-81ad-24eaafad675a"
      },
      "source": [
        "model_3 = Sequential()\n",
        "#Conv Layer 1\n",
        "model_3.add(Conv2D(filters = 32, kernel_size = (4, 4),padding = \"same\", strides = 1, activation = 'relu', input_shape = (32,32,1)))\n",
        "# Pooling layer 1\n",
        "model_3.add(MaxPooling2D(pool_size =(2, 2), strides = 2))\n",
        "#Layer 2 - batch normalization\n",
        "#Dropout layer followed by Conv Layer\n",
        "model_3.add(BatchNormalization())\n",
        "model_3.add(Dropout(0.4))\n",
        "model_3.add(Conv2D(filters = 64, kernel_size = (4, 4),padding = \"same\", strides = 1, activation = 'relu', input_shape = (28,28,1)))\n",
        "#Pooling Layer, batch normalization, dropout\n",
        "model_3.add(MaxPooling2D(pool_size = 2, strides = 2))\n",
        "model_3.add(BatchNormalization())\n",
        "model_3.add(Dropout(0.4))\n",
        "#Flatten\n",
        "model_3.add(Flatten())\n",
        "#Fully connected layer 1\n",
        "model_3.add(Dense(units = 128, activation = 'relu'))\n",
        "#Output Layer\n",
        "model_3.add(Dense(units = 10, activation = 'softmax'))\n",
        "\n",
        "model_3.summary()"
      ],
      "execution_count": null,
      "outputs": [
        {
          "output_type": "stream",
          "text": [
            "Model: \"sequential_10\"\n",
            "_________________________________________________________________\n",
            "Layer (type)                 Output Shape              Param #   \n",
            "=================================================================\n",
            "conv2d_13 (Conv2D)           (None, 32, 32, 32)        544       \n",
            "_________________________________________________________________\n",
            "max_pooling2d_13 (MaxPooling (None, 16, 16, 32)        0         \n",
            "_________________________________________________________________\n",
            "batch_normalization_9 (Batch (None, 16, 16, 32)        128       \n",
            "_________________________________________________________________\n",
            "dropout_11 (Dropout)         (None, 16, 16, 32)        0         \n",
            "_________________________________________________________________\n",
            "conv2d_14 (Conv2D)           (None, 16, 16, 64)        32832     \n",
            "_________________________________________________________________\n",
            "max_pooling2d_14 (MaxPooling (None, 8, 8, 64)          0         \n",
            "_________________________________________________________________\n",
            "batch_normalization_10 (Batc (None, 8, 8, 64)          256       \n",
            "_________________________________________________________________\n",
            "dropout_12 (Dropout)         (None, 8, 8, 64)          0         \n",
            "_________________________________________________________________\n",
            "flatten_6 (Flatten)          (None, 4096)              0         \n",
            "_________________________________________________________________\n",
            "dense_15 (Dense)             (None, 128)               524416    \n",
            "_________________________________________________________________\n",
            "dense_16 (Dense)             (None, 10)                1290      \n",
            "=================================================================\n",
            "Total params: 559,466\n",
            "Trainable params: 559,274\n",
            "Non-trainable params: 192\n",
            "_________________________________________________________________\n"
          ],
          "name": "stdout"
        }
      ]
    },
    {
      "cell_type": "code",
      "metadata": {
        "id": "w4RrmYGtLkFi",
        "colab_type": "code",
        "colab": {
          "base_uri": "https://localhost:8080/",
          "height": 884
        },
        "outputId": "fd28bfa5-06fd-489e-f557-8a1448fee4c5"
      },
      "source": [
        "# Compiling model_3\n",
        "learning_rate = .001\n",
        "model_3.compile(loss='categorical_crossentropy',\n",
        "              optimizer=RMSprop(lr=learning_rate),\n",
        "              metrics=['accuracy'])\n",
        "\n",
        "batch_size = 64 \n",
        "epochs = 25   # 25 epochs\n",
        "history = model_3.fit(\n",
        "    x_train, y_train,\n",
        "    batch_size=batch_size,\n",
        "    epochs=epochs,\n",
        "    verbose=1,\n",
        "    validation_data=(x_test, y_test))"
      ],
      "execution_count": null,
      "outputs": [
        {
          "output_type": "stream",
          "text": [
            "Train on 60000 samples, validate on 10000 samples\n",
            "Epoch 1/25\n",
            "60000/60000 [==============================] - 153s 3ms/step - loss: 0.1961 - accuracy: 0.9313 - val_loss: 0.2281 - val_accuracy: 0.9230\n",
            "Epoch 2/25\n",
            "60000/60000 [==============================] - 153s 3ms/step - loss: 0.1865 - accuracy: 0.9334 - val_loss: 0.2280 - val_accuracy: 0.9214\n",
            "Epoch 3/25\n",
            "60000/60000 [==============================] - 152s 3ms/step - loss: 0.1821 - accuracy: 0.9358 - val_loss: 0.2160 - val_accuracy: 0.9256\n",
            "Epoch 4/25\n",
            "60000/60000 [==============================] - 152s 3ms/step - loss: 0.1809 - accuracy: 0.9354 - val_loss: 0.2195 - val_accuracy: 0.9252\n",
            "Epoch 5/25\n",
            "60000/60000 [==============================] - 152s 3ms/step - loss: 0.1816 - accuracy: 0.9345 - val_loss: 0.2266 - val_accuracy: 0.9249\n",
            "Epoch 6/25\n",
            "60000/60000 [==============================] - 152s 3ms/step - loss: 0.1792 - accuracy: 0.9367 - val_loss: 0.2273 - val_accuracy: 0.9210\n",
            "Epoch 7/25\n",
            "60000/60000 [==============================] - 152s 3ms/step - loss: 0.1778 - accuracy: 0.9366 - val_loss: 0.2142 - val_accuracy: 0.9252\n",
            "Epoch 8/25\n",
            "60000/60000 [==============================] - 152s 3ms/step - loss: 0.1781 - accuracy: 0.9362 - val_loss: 0.2217 - val_accuracy: 0.9223\n",
            "Epoch 9/25\n",
            "60000/60000 [==============================] - 152s 3ms/step - loss: 0.1773 - accuracy: 0.9377 - val_loss: 0.2187 - val_accuracy: 0.9258\n",
            "Epoch 10/25\n",
            "60000/60000 [==============================] - 152s 3ms/step - loss: 0.1777 - accuracy: 0.9372 - val_loss: 0.2462 - val_accuracy: 0.9233\n",
            "Epoch 11/25\n",
            "60000/60000 [==============================] - 153s 3ms/step - loss: 0.1764 - accuracy: 0.9387 - val_loss: 0.2523 - val_accuracy: 0.9174\n",
            "Epoch 12/25\n",
            "60000/60000 [==============================] - 152s 3ms/step - loss: 0.1758 - accuracy: 0.9383 - val_loss: 0.3225 - val_accuracy: 0.9051\n",
            "Epoch 13/25\n",
            "60000/60000 [==============================] - 151s 3ms/step - loss: 0.1738 - accuracy: 0.9380 - val_loss: 0.2237 - val_accuracy: 0.9211\n",
            "Epoch 14/25\n",
            "60000/60000 [==============================] - 152s 3ms/step - loss: 0.1739 - accuracy: 0.9397 - val_loss: 0.2327 - val_accuracy: 0.9161\n",
            "Epoch 15/25\n",
            "60000/60000 [==============================] - 153s 3ms/step - loss: 0.1740 - accuracy: 0.9394 - val_loss: 0.2419 - val_accuracy: 0.9177\n",
            "Epoch 16/25\n",
            "60000/60000 [==============================] - 157s 3ms/step - loss: 0.1718 - accuracy: 0.9413 - val_loss: 0.2347 - val_accuracy: 0.9252\n",
            "Epoch 17/25\n",
            "60000/60000 [==============================] - 152s 3ms/step - loss: 0.1728 - accuracy: 0.9390 - val_loss: 0.2189 - val_accuracy: 0.9217\n",
            "Epoch 18/25\n",
            "60000/60000 [==============================] - 152s 3ms/step - loss: 0.1753 - accuracy: 0.9391 - val_loss: 0.2186 - val_accuracy: 0.9254\n",
            "Epoch 19/25\n",
            "60000/60000 [==============================] - 152s 3ms/step - loss: 0.1730 - accuracy: 0.9396 - val_loss: 0.2257 - val_accuracy: 0.9234\n",
            "Epoch 20/25\n",
            "60000/60000 [==============================] - 157s 3ms/step - loss: 0.1700 - accuracy: 0.9412 - val_loss: 0.2168 - val_accuracy: 0.9278\n",
            "Epoch 21/25\n",
            "60000/60000 [==============================] - 152s 3ms/step - loss: 0.1717 - accuracy: 0.9398 - val_loss: 0.2197 - val_accuracy: 0.9230\n",
            "Epoch 22/25\n",
            "60000/60000 [==============================] - 152s 3ms/step - loss: 0.1702 - accuracy: 0.9410 - val_loss: 0.2404 - val_accuracy: 0.9253\n",
            "Epoch 23/25\n",
            "60000/60000 [==============================] - 151s 3ms/step - loss: 0.1702 - accuracy: 0.9416 - val_loss: 0.2245 - val_accuracy: 0.9216\n",
            "Epoch 24/25\n",
            "60000/60000 [==============================] - 151s 3ms/step - loss: 0.1704 - accuracy: 0.9400 - val_loss: 0.2199 - val_accuracy: 0.9246\n",
            "Epoch 25/25\n",
            "60000/60000 [==============================] - 151s 3ms/step - loss: 0.1728 - accuracy: 0.9405 - val_loss: 0.2214 - val_accuracy: 0.9244\n"
          ],
          "name": "stdout"
        }
      ]
    },
    {
      "cell_type": "code",
      "metadata": {
        "id": "8xwMxd5Jj39F",
        "colab_type": "code",
        "colab": {
          "base_uri": "https://localhost:8080/",
          "height": 51
        },
        "outputId": "26398c79-d65b-4cab-c001-78df4be6379b"
      },
      "source": [
        "## Evaluating the model_3 on the test data for test loss and test acuracy\n",
        "\n",
        "score = model_3.evaluate(x_test, y_test, verbose=0)\n",
        "print('Test loss:', score[0])\n",
        "print('Test accuracy:', score[1])"
      ],
      "execution_count": null,
      "outputs": [
        {
          "output_type": "stream",
          "text": [
            "Test loss: 0.22141424026489256\n",
            "Test accuracy: 0.9243999719619751\n"
          ],
          "name": "stdout"
        }
      ]
    }
  ]
}